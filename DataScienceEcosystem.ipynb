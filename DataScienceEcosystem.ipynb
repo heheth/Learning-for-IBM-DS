{
 "cells": [
  {
   "cell_type": "markdown",
   "id": "71f1b3f8-015e-4e97-8c53-0fe36c664d8c",
   "metadata": {},
   "source": [
    "# Data Science Tools and Ecosystem"
   ]
  },
  {
   "cell_type": "markdown",
   "id": "0545e8c2-a015-445a-a727-4347471cd51f",
   "metadata": {},
   "source": [
    "In this notebook, Data Science Tools and Ecosystem are summarized."
   ]
  },
  {
   "cell_type": "markdown",
   "id": "5b33611f-729a-40f4-9618-ed8f0a1cdbcf",
   "metadata": {},
   "source": [
    "**Objectives:**\n",
    "* List popular languages for Data Science\n",
    "* List popular libraries for Data Science\n",
    "* List three development environment open source tools used in data science"
   ]
  },
  {
   "cell_type": "markdown",
   "id": "d9a37e75-849e-43c8-8101-82f090e60bf6",
   "metadata": {},
   "source": [
    "Some of the popular languages that Data Scientists use are:\n",
    "1. Python\n",
    "2. R\n",
    "3. SQL"
   ]
  },
  {
   "cell_type": "markdown",
   "id": "8baaeb42-40db-41c9-ab1e-fa62cbca88af",
   "metadata": {},
   "source": [
    "Some of the commonly used libraries used by Data Scientists include:\n",
    "1. Numpy\n",
    "2. Pandas\n",
    "3. Scikit-learn"
   ]
  },
  {
   "cell_type": "markdown",
   "id": "42b91b44-5e91-4523-a63e-02a0f5171810",
   "metadata": {},
   "source": [
    "| Data Science Tools |\n",
    "| ------------------ |\n",
    "| Jupyter Notebooks  |\n",
    "| Jupyter Lab        |\n",
    "| RStudio            |"
   ]
  },
  {
   "cell_type": "markdown",
   "id": "b5837a3d-a019-4068-9c44-c69c6443c92e",
   "metadata": {},
   "source": [
    "### Below are a few examples of evaluating arithmetic expressions in Python"
   ]
  },
  {
   "cell_type": "code",
   "execution_count": 1,
   "id": "80f70c43-00e6-46f8-abfb-fac62ded6e5f",
   "metadata": {
    "tags": []
   },
   "outputs": [
    {
     "data": {
      "text/plain": [
       "17"
      ]
     },
     "execution_count": 1,
     "metadata": {},
     "output_type": "execute_result"
    }
   ],
   "source": [
    "# This a simple arithmetic expression to mutiply then add integers\n",
    "(3*4)+5"
   ]
  },
  {
   "cell_type": "code",
   "execution_count": 2,
   "id": "50bbaea6-a455-49a5-825f-aef2e3bce3fc",
   "metadata": {
    "tags": []
   },
   "outputs": [
    {
     "data": {
      "text/plain": [
       "33.333333333333336"
      ]
     },
     "execution_count": 2,
     "metadata": {},
     "output_type": "execute_result"
    }
   ],
   "source": [
    "# This will convert 200 minutes to hours by diving by 60\n",
    "200 / 6"
   ]
  },
  {
   "cell_type": "markdown",
   "id": "cf8b24e0-ae6b-436d-904f-ce45a1f68697",
   "metadata": {},
   "source": [
    "## Author\n",
    "Ziang Zhang"
   ]
  }
 ],
 "metadata": {
  "kernelspec": {
   "display_name": "Python",
   "language": "python",
   "name": "conda-env-python-py"
  },
  "language_info": {
   "codemirror_mode": {
    "name": "ipython",
    "version": 3
   },
   "file_extension": ".py",
   "mimetype": "text/x-python",
   "name": "python",
   "nbconvert_exporter": "python",
   "pygments_lexer": "ipython3",
   "version": "3.7.12"
  }
 },
 "nbformat": 4,
 "nbformat_minor": 5
}
